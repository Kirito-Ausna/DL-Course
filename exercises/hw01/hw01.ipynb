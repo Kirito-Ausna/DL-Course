{
  "cells": [
    {
      "cell_type": "markdown",
      "id": "7f50a8ec-3d6f-46a9-8b47-ff6635764d45",
      "metadata": {},
      "source": [
        "## Homework Assignment 1 - NumPy Exercises for Beginners\n",
        "NumPy is a computational library that helps in speeding up Vector Algebra operations that involve Vectors (Distance between points, Cosine Similarity) and Matrices. Specifically, it helps in constructing powerful n-dimensional arrays that works smoothly with distributed and GPU systems. It is a very handy library and extensively used in the domains of Data Analytics and Machine Learning. Other than Python, it can also be used in tandem with languages like C and Fortran. Being an Open Source Library under a liberal BSD license, it is developed and maintained publicly on GitHub. "
      ]
    },
    {
      "cell_type": "markdown",
      "id": "b9670d85-ef29-4dfd-b4b5-e76d279c1f1a",
      "metadata": {},
      "source": [
        "### 1. Import the numpy package under the name `np`"
      ]
    },
    {
      "cell_type": "code",
      "execution_count": 1,
      "id": "632749fe-b282-4164-ac31-ab505f593a0b",
      "metadata": {},
      "outputs": [],
      "source": [
        "import numpy as np"
      ]
    },
    {
      "cell_type": "markdown",
      "id": "2032ae5b-ac13-4f50-b849-69aaf9dcb925",
      "metadata": {},
      "source": [
        "### 2. Create random vector of size 10 and replace the maximum value by 0"
      ]
    },
    {
      "cell_type": "code",
      "execution_count": 8,
      "id": "20a250b1-a0c6-4efc-8f53-f1186252b1d2",
      "metadata": {},
      "outputs": [
        {
          "name": "stdout",
          "output_type": "stream",
          "text": [
            "[0.5094695  0.3076282  0.35233873 0.64010877 0.14087851 0.3898219\n",
            " 0.19837608 0.0388532  0.42277616 0.58077464]\n"
          ]
        },
        {
          "data": {
            "text/plain": [
              "array([0.5094695 , 0.3076282 , 0.35233873, 0.        , 0.14087851,\n",
              "       0.3898219 , 0.19837608, 0.0388532 , 0.42277616, 0.58077464])"
            ]
          },
          "execution_count": 8,
          "metadata": {},
          "output_type": "execute_result"
        }
      ],
      "source": [
        "vector = np.random.rand(10)\n",
        "print(vector)\n",
        "vector[vector.argmax()] = 0\n",
        "vector"
      ]
    },
    {
      "cell_type": "markdown",
      "id": "5470eef3-bcb0-4802-b1b5-7e3f9ed4490c",
      "metadata": {},
      "source": [
        "### 3. Create a 5*5 martrix whose main diagonal elements as `1,2,3,4,5` and other elements as `0`"
      ]
    },
    {
      "cell_type": "code",
      "execution_count": 9,
      "id": "dee02632-4786-4c5b-bf4e-7476c00a86a4",
      "metadata": {},
      "outputs": [
        {
          "data": {
            "text/plain": [
              "array([[1, 0, 0, 0, 0],\n",
              "       [0, 2, 0, 0, 0],\n",
              "       [0, 0, 3, 0, 0],\n",
              "       [0, 0, 0, 4, 0],\n",
              "       [0, 0, 0, 0, 5]])"
            ]
          },
          "execution_count": 9,
          "metadata": {},
          "output_type": "execute_result"
        }
      ],
      "source": [
        "matrix = np.diag([1,2,3,4,5])\n",
        "matrix"
      ]
    },
    {
      "cell_type": "markdown",
      "id": "4f69c1fc-db24-49bb-af93-c91995f9e604",
      "metadata": {},
      "source": [
        "### 4. Create a 10*10 martrix whose boundary values as 1 and internal values as 0"
      ]
    },
    {
      "cell_type": "code",
      "execution_count": 10,
      "id": "7bb927a9-7622-4260-978f-40ffea299bcd",
      "metadata": {},
      "outputs": [
        {
          "data": {
            "text/plain": [
              "array([[1., 1., 1., 1., 1., 1., 1., 1., 1., 1.],\n",
              "       [1., 0., 0., 0., 0., 0., 0., 0., 0., 1.],\n",
              "       [1., 0., 0., 0., 0., 0., 0., 0., 0., 1.],\n",
              "       [1., 0., 0., 0., 0., 0., 0., 0., 0., 1.],\n",
              "       [1., 0., 0., 0., 0., 0., 0., 0., 0., 1.],\n",
              "       [1., 0., 0., 0., 0., 0., 0., 0., 0., 1.],\n",
              "       [1., 0., 0., 0., 0., 0., 0., 0., 0., 1.],\n",
              "       [1., 0., 0., 0., 0., 0., 0., 0., 0., 1.],\n",
              "       [1., 0., 0., 0., 0., 0., 0., 0., 0., 1.],\n",
              "       [1., 1., 1., 1., 1., 1., 1., 1., 1., 1.]])"
            ]
          },
          "execution_count": 10,
          "metadata": {},
          "output_type": "execute_result"
        }
      ],
      "source": [
        "# Create a 10*10 martrix whose boundary values as 1 and internal values as 0\n",
        "matrix = np.ones((10,10))\n",
        "matrix[1:-1,1:-1] = 0\n",
        "matrix"
      ]
    },
    {
      "cell_type": "code",
      "execution_count": null,
      "id": "a477a90d",
      "metadata": {},
      "outputs": [],
      "source": []
    }
  ],
  "metadata": {
    "kernelspec": {
      "display_name": "manifold",
      "language": "python",
      "name": "python3"
    },
    "language_info": {
      "codemirror_mode": {
        "name": "ipython",
        "version": 3
      },
      "file_extension": ".py",
      "mimetype": "text/x-python",
      "name": "python",
      "nbconvert_exporter": "python",
      "pygments_lexer": "ipython3",
      "version": "3.8.0"
    },
    "vscode": {
      "interpreter": {
        "hash": "ad9423c3da2352b08aed4bb9731c041c9a92cc0e9b2a8c30f82ace493c0869a9"
      }
    }
  },
  "nbformat": 4,
  "nbformat_minor": 5
}
